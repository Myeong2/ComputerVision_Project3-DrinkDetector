{
  "cells": [
    {
      "cell_type": "markdown",
      "metadata": {
        "id": "view-in-github",
        "colab_type": "text"
      },
      "source": [
        "<a href=\"https://colab.research.google.com/github/Myeong2/ComputerVision_Project3-DrinkDetector/blob/master/%EA%B0%84_%EC%8B%A4%EC%8A%B5.ipynb\" target=\"_parent\"><img src=\"https://colab.research.google.com/assets/colab-badge.svg\" alt=\"Open In Colab\"/></a>"
      ]
    },
    {
      "cell_type": "code",
      "execution_count": null,
      "metadata": {
        "id": "dEiw2iScgKWt"
      },
      "outputs": [],
      "source": [
        "import torch\n",
        "import torch.nn as nn\n",
        "import torch.nn.functional as F\n",
        "\n",
        "from torchvision import datasets\n",
        "import torchvision.transforms as transforms\n",
        "from torch.utils.data import DataLoader\n",
        "from torchvision.transforms.functional import to_pil_image\n",
        "import matplotlib.pylab as plt\n",
        "%matplotlib inline\n",
        "\n",
        "import os\n",
        "import numpy as np\n",
        "import time\n",
        "\n",
        "device = torch.device('cuda' if torch.cuda.is_available() else 'cpu')"
      ]
    },
    {
      "cell_type": "code",
      "execution_count": null,
      "metadata": {
        "id": "2p9jdrQLgK9n"
      },
      "outputs": [],
      "source": [
        "# 데이터 경로 지정\n",
        "path2data = './data'\n",
        "os.makedirs(path2data, exist_ok=True) # 폴더 생성"
      ]
    },
    {
      "cell_type": "code",
      "execution_count": null,
      "metadata": {
        "colab": {
          "base_uri": "https://localhost:8080/"
        },
        "id": "lP8Swc3Vgzf4",
        "outputId": "3e7925ab-7ad4-4843-9254-80ce8ebb2f9d"
      },
      "outputs": [
        {
          "name": "stdout",
          "output_type": "stream",
          "text": [
            "Downloading http://yann.lecun.com/exdb/mnist/train-images-idx3-ubyte.gz\n",
            "Downloading http://yann.lecun.com/exdb/mnist/train-images-idx3-ubyte.gz to ./data/MNIST/raw/train-images-idx3-ubyte.gz\n"
          ]
        },
        {
          "name": "stderr",
          "output_type": "stream",
          "text": [
            "100%|██████████| 9912422/9912422 [00:00<00:00, 71703771.90it/s]\n"
          ]
        },
        {
          "name": "stdout",
          "output_type": "stream",
          "text": [
            "Extracting ./data/MNIST/raw/train-images-idx3-ubyte.gz to ./data/MNIST/raw\n",
            "\n",
            "Downloading http://yann.lecun.com/exdb/mnist/train-labels-idx1-ubyte.gz\n",
            "Downloading http://yann.lecun.com/exdb/mnist/train-labels-idx1-ubyte.gz to ./data/MNIST/raw/train-labels-idx1-ubyte.gz\n"
          ]
        },
        {
          "name": "stderr",
          "output_type": "stream",
          "text": [
            "100%|██████████| 28881/28881 [00:00<00:00, 74316376.58it/s]\n"
          ]
        },
        {
          "name": "stdout",
          "output_type": "stream",
          "text": [
            "Extracting ./data/MNIST/raw/train-labels-idx1-ubyte.gz to ./data/MNIST/raw\n",
            "\n",
            "Downloading http://yann.lecun.com/exdb/mnist/t10k-images-idx3-ubyte.gz\n",
            "Downloading http://yann.lecun.com/exdb/mnist/t10k-images-idx3-ubyte.gz to ./data/MNIST/raw/t10k-images-idx3-ubyte.gz\n"
          ]
        },
        {
          "name": "stderr",
          "output_type": "stream",
          "text": [
            "100%|██████████| 1648877/1648877 [00:00<00:00, 20977588.56it/s]\n"
          ]
        },
        {
          "name": "stdout",
          "output_type": "stream",
          "text": [
            "Extracting ./data/MNIST/raw/t10k-images-idx3-ubyte.gz to ./data/MNIST/raw\n",
            "\n",
            "Downloading http://yann.lecun.com/exdb/mnist/t10k-labels-idx1-ubyte.gz\n",
            "Downloading http://yann.lecun.com/exdb/mnist/t10k-labels-idx1-ubyte.gz to ./data/MNIST/raw/t10k-labels-idx1-ubyte.gz\n"
          ]
        },
        {
          "name": "stderr",
          "output_type": "stream",
          "text": [
            "100%|██████████| 4542/4542 [00:00<00:00, 5604745.15it/s]\n"
          ]
        },
        {
          "name": "stdout",
          "output_type": "stream",
          "text": [
            "Extracting ./data/MNIST/raw/t10k-labels-idx1-ubyte.gz to ./data/MNIST/raw\n",
            "\n"
          ]
        }
      ],
      "source": [
        "# MNIST dataset 불러오기\n",
        "train_ds = datasets.MNIST(path2data, train=True, transform=transforms.Compose([transforms.ToTensor(),transforms.Normalize([0.5],[0.5])]), download=True)"
      ]
    },
    {
      "cell_type": "code",
      "execution_count": null,
      "metadata": {
        "colab": {
          "base_uri": "https://localhost:8080/",
          "height": 448
        },
        "id": "YW0V6uK-gz02",
        "outputId": "6cbff0d1-e5db-4f6e-d64a-57e81390d027"
      },
      "outputs": [
        {
          "data": {
            "text/plain": [
              "<matplotlib.image.AxesImage at 0x7a0d3006cd90>"
            ]
          },
          "execution_count": 8,
          "metadata": {},
          "output_type": "execute_result"
        },
        {
          "data": {
            "image/png": "[encoded data removed]",
            "text/plain": [
              "<Figure size 640x480 with 1 Axes>"
            ]
          },
          "metadata": {},
          "output_type": "display_data"
        }
      ],
      "source": [
        "# 샘플 이미지 확인\n",
        "img, label = train_ds[0]\n",
        "plt.imshow(to_pil_image(img),cmap='gray')"
      ]
    },
    {
      "cell_type": "code",
      "execution_count": null,
      "metadata": {
        "colab": {
          "base_uri": "https://localhost:8080/"
        },
        "id": "Q0X0fGQLg2me",
        "outputId": "28b0dae9-f829-4d19-af1e-3666c199cd3f"
      },
      "outputs": [
        {
          "name": "stdout",
          "output_type": "stream",
          "text": [
            "torch.Size([32, 1, 28, 28]) torch.Size([32])\n"
          ]
        }
      ],
      "source": [
        "# 데이터 로더 생성\n",
        "train_dl = DataLoader(train_ds, batch_size=32, shuffle=True)\n",
        "\n",
        "# check\n",
        "for x, y in train_dl:\n",
        "    print(x.shape, y.shape)\n",
        "    break"
      ]
    },
    {
      "cell_type": "code",
      "execution_count": null,
      "metadata": {
        "colab": {
          "base_uri": "https://localhost:8080/"
        },
        "id": "ty7W65fig4s-",
        "outputId": "9df44ece-0afd-4e4e-ac52-fe1cfcfb40b5"
      },
      "outputs": [
        {
          "name": "stdout",
          "output_type": "stream",
          "text": [
            "torch.Size([16, 1, 28, 28])\n"
          ]
        }
      ],
      "source": [
        "# generator: noise를 입력받아 이미지를 생성합니다.\n",
        "class Generator(nn.Module):\n",
        "    def __init__(self, params):\n",
        "        super().__init__()\n",
        "        self.nz = params['nz'] # 입력 노이즈 벡터 수, 100\n",
        "        self.img_size = params['img_size'] # 이미지 크기, 1x28x28\n",
        "\n",
        "        self.model = nn.Sequential(\n",
        "            *self._fc_layer(self.nz, 128, normalize=False),\n",
        "            *self._fc_layer(128,256),\n",
        "            *self._fc_layer(256,512),\n",
        "            *self._fc_layer(512,1024),\n",
        "            nn.Linear(1024,int(np.prod(self.img_size))),\n",
        "            nn.Tanh()\n",
        "        )\n",
        "\n",
        "    def forward(self, z):\n",
        "        img = self.model(z)\n",
        "        img = img.view(img.size(0), *self.img_size)\n",
        "        return img\n",
        "\n",
        "    # fc layer\n",
        "    def _fc_layer(self, in_channels, out_channels, normalize=True):\n",
        "        layers = []\n",
        "        layers.append(nn.Linear(in_channels, out_channels)) # fc layer\n",
        "        if normalize:\n",
        "            layers.append(nn.BatchNorm1d(out_channels, 0.8)) # BN\n",
        "        layers.append(nn.LeakyReLU(0.2)) # LeakyReLU\n",
        "        return layers\n",
        "\n",
        "# check\n",
        "params = {'nz':100,\n",
        "          'img_size':(1,28,28)}\n",
        "x = torch.randn(16,100).to(device) # random noise\n",
        "model_gen = Generator(params).to(device)\n",
        "output = model_gen(x) # noise를 입력받아 이미지 생성\n",
        "print(output.shape)"
      ]
    },
    {
      "cell_type": "code",
      "execution_count": null,
      "metadata": {
        "colab": {
          "base_uri": "https://localhost:8080/"
        },
        "id": "m4IBOMpTg6nl",
        "outputId": "804ccfa3-6e8f-4302-8a7d-9b8c7cf19a7f"
      },
      "outputs": [
        {
          "name": "stdout",
          "output_type": "stream",
          "text": [
            "torch.Size([16, 1])\n"
          ]
        }
      ],
      "source": [
        "# discriminator: 진짜 이미지와 가짜 이미지를 분류합니다.\n",
        "class Discriminator(nn.Module):\n",
        "    def __init__(self,params):\n",
        "        super().__init__()\n",
        "        self.img_size = params['img_size'] # 이미지 크기, 1x28x28\n",
        "\n",
        "        self.model = nn.Sequential(\n",
        "            nn.Linear(int(np.prod(self.img_size)), 512),\n",
        "            nn.LeakyReLU(0.2),\n",
        "            nn.Linear(512,256),\n",
        "            nn.LeakyReLU(0.2),\n",
        "            nn.Linear(256,1),\n",
        "            nn.Sigmoid()\n",
        "        )\n",
        "\n",
        "    def forward(self, x):\n",
        "        x = x.view(x.size(0),-1)\n",
        "        x = self.model(x)\n",
        "        return x\n",
        "\n",
        "# check\n",
        "x = torch.randn(16,1,28,28).to(device)\n",
        "model_dis = Discriminator(params).to(device)\n",
        "output = model_dis(x)\n",
        "print(output.shape)"
      ]
    },
    {
      "cell_type": "code",
      "execution_count": null,
      "metadata": {
        "id": "TSb0UG54g8gN"
      },
      "outputs": [],
      "source": [
        "# 가중치 초기화\n",
        "def initialize_weights(model):\n",
        "    classname = model.__class__.__name__\n",
        "    # fc layer\n",
        "    if classname.find('Linear') != -1:\n",
        "        nn.init.normal_(model.weight.data, 0.0, 0.02)\n",
        "        nn.init.constant_(model.bias.data, 0)\n",
        "    # batchnorm\n",
        "    elif classname.find('BatchNorm') != -1:\n",
        "        nn.init.normal_(model.weight.data, 1.0, 0.02)\n",
        "        nn.init.constant_(model.bias.data, 0)\n",
        "\n",
        "# 가중치 초기화 적용\n",
        "model_gen.apply(initialize_weights);\n",
        "model_dis.apply(initialize_weights);"
      ]
    },
    {
      "cell_type": "code",
      "execution_count": null,
      "metadata": {
        "id": "fAgxiSslg9_d"
      },
      "outputs": [],
      "source": [
        "# 손실 함수\n",
        "loss_func = nn.BCELoss()\n",
        "\n",
        "from torch import optim\n",
        "\n",
        "# 최적화 파라미터\n",
        "lr = 2e-4\n",
        "beta1 = 0.5\n",
        "\n",
        "opt_dis = optim.Adam(model_dis.parameters(),lr=lr,betas=(beta1,0.999))\n",
        "opt_gen = optim.Adam(model_gen.parameters(),lr=lr,betas=(beta1,0.999))"
      ]
    },
    {
      "cell_type": "code",
      "execution_count": null,
      "metadata": {
        "id": "oixFft6ug_ge"
      },
      "outputs": [],
      "source": [
        "real_label = 1.\n",
        "fake_label = 0.\n",
        "nz = params['nz']\n",
        "num_epochs = 100\n",
        "\n",
        "loss_history={'gen':[],\n",
        "              'dis':[]}"
      ]
    },
    {
      "cell_type": "code",
      "execution_count": null,
      "metadata": {
        "colab": {
          "background_save": true,
          "base_uri": "https://localhost:8080/"
        },
        "id": "jFTnrvBrhA62",
        "outputId": "8c76379a-6c39-45de-c6cd-fbb2ad263b06"
      },
      "outputs": [
        {
          "name": "stdout",
          "output_type": "stream",
          "text": [
            "Epoch: 0, G_Loss: 0.812299, D_Loss: 0.385243, time: 0.71 min\n",
            "Epoch: 1, G_Loss: 1.809530, D_Loss: 0.263124, time: 1.66 min\n",
            "Epoch: 1, G_Loss: 5.518051, D_Loss: 0.837011, time: 2.35 min\n",
            "Epoch: 2, G_Loss: 0.659168, D_Loss: 0.439853, time: 3.07 min\n",
            "Epoch: 2, G_Loss: 1.265775, D_Loss: 0.254093, time: 3.76 min\n",
            "Epoch: 3, G_Loss: 1.686234, D_Loss: 0.160763, time: 4.47 min\n",
            "Epoch: 3, G_Loss: 0.707306, D_Loss: 0.673143, time: 5.16 min\n",
            "Epoch: 4, G_Loss: 3.273058, D_Loss: 0.254737, time: 5.85 min\n",
            "Epoch: 4, G_Loss: 1.740455, D_Loss: 0.288128, time: 6.54 min\n",
            "Epoch: 5, G_Loss: 2.445363, D_Loss: 0.275622, time: 7.22 min\n",
            "Epoch: 5, G_Loss: 1.961325, D_Loss: 0.277720, time: 7.90 min\n",
            "Epoch: 6, G_Loss: 1.730030, D_Loss: 0.266550, time: 8.58 min\n",
            "Epoch: 6, G_Loss: 1.839840, D_Loss: 0.305100, time: 9.27 min\n",
            "Epoch: 7, G_Loss: 2.181429, D_Loss: 0.312147, time: 9.95 min\n",
            "Epoch: 7, G_Loss: 1.179195, D_Loss: 0.312856, time: 10.62 min\n",
            "Epoch: 8, G_Loss: 0.838799, D_Loss: 0.495311, time: 11.30 min\n",
            "Epoch: 9, G_Loss: 3.860529, D_Loss: 0.664739, time: 11.98 min\n",
            "Epoch: 9, G_Loss: 3.691600, D_Loss: 0.667026, time: 12.67 min\n",
            "Epoch: 10, G_Loss: 0.949480, D_Loss: 0.409579, time: 13.36 min\n",
            "Epoch: 10, G_Loss: 0.453367, D_Loss: 0.680865, time: 14.03 min\n",
            "Epoch: 11, G_Loss: 1.017555, D_Loss: 0.559477, time: 14.71 min\n",
            "Epoch: 11, G_Loss: 2.413427, D_Loss: 0.244885, time: 15.40 min\n",
            "Epoch: 12, G_Loss: 2.109060, D_Loss: 0.276564, time: 16.09 min\n",
            "Epoch: 12, G_Loss: 2.151922, D_Loss: 0.204481, time: 16.77 min\n",
            "Epoch: 13, G_Loss: 1.682322, D_Loss: 0.266675, time: 17.45 min\n",
            "Epoch: 13, G_Loss: 2.086387, D_Loss: 0.215798, time: 18.14 min\n",
            "Epoch: 14, G_Loss: 1.268849, D_Loss: 0.331653, time: 18.83 min\n",
            "Epoch: 14, G_Loss: 2.250076, D_Loss: 0.394446, time: 19.52 min\n",
            "Epoch: 15, G_Loss: 1.384741, D_Loss: 0.360745, time: 20.20 min\n",
            "Epoch: 15, G_Loss: 1.414830, D_Loss: 0.262769, time: 20.87 min\n",
            "Epoch: 16, G_Loss: 1.665150, D_Loss: 0.278214, time: 21.55 min\n",
            "Epoch: 17, G_Loss: 1.393623, D_Loss: 0.355107, time: 22.25 min\n",
            "Epoch: 17, G_Loss: 2.239100, D_Loss: 0.203624, time: 22.93 min\n",
            "Epoch: 18, G_Loss: 2.067507, D_Loss: 0.318802, time: 23.61 min\n",
            "Epoch: 18, G_Loss: 1.587670, D_Loss: 0.263304, time: 24.29 min\n",
            "Epoch: 19, G_Loss: 0.886816, D_Loss: 0.427679, time: 24.96 min\n",
            "Epoch: 19, G_Loss: 2.530774, D_Loss: 0.297697, time: 25.65 min\n",
            "Epoch: 20, G_Loss: 2.200190, D_Loss: 0.403152, time: 26.33 min\n",
            "Epoch: 20, G_Loss: 1.600157, D_Loss: 0.382926, time: 27.01 min\n",
            "Epoch: 21, G_Loss: 1.282476, D_Loss: 0.382858, time: 27.69 min\n",
            "Epoch: 21, G_Loss: 1.338030, D_Loss: 0.331681, time: 28.36 min\n",
            "Epoch: 22, G_Loss: 1.588129, D_Loss: 0.271674, time: 29.05 min\n",
            "Epoch: 22, G_Loss: 0.973704, D_Loss: 0.325444, time: 29.73 min\n",
            "Epoch: 23, G_Loss: 2.277810, D_Loss: 0.258283, time: 30.41 min\n",
            "Epoch: 23, G_Loss: 1.584975, D_Loss: 0.435950, time: 31.09 min\n",
            "Epoch: 24, G_Loss: 2.681130, D_Loss: 0.352370, time: 31.76 min\n",
            "Epoch: 25, G_Loss: 1.441679, D_Loss: 0.280842, time: 32.44 min\n",
            "Epoch: 25, G_Loss: 2.214944, D_Loss: 0.314056, time: 33.14 min\n",
            "Epoch: 26, G_Loss: 1.622396, D_Loss: 0.267415, time: 33.81 min\n",
            "Epoch: 26, G_Loss: 2.539770, D_Loss: 0.306868, time: 34.49 min\n",
            "Epoch: 27, G_Loss: 2.329580, D_Loss: 0.250277, time: 35.16 min\n",
            "Epoch: 27, G_Loss: 1.932319, D_Loss: 0.250267, time: 35.84 min\n",
            "Epoch: 28, G_Loss: 1.887388, D_Loss: 0.207536, time: 36.52 min\n",
            "Epoch: 28, G_Loss: 2.734485, D_Loss: 0.302270, time: 37.21 min\n",
            "Epoch: 29, G_Loss: 1.709428, D_Loss: 0.275902, time: 37.89 min\n",
            "Epoch: 29, G_Loss: 2.314036, D_Loss: 0.410334, time: 38.57 min\n",
            "Epoch: 30, G_Loss: 0.996776, D_Loss: 0.455488, time: 39.26 min\n",
            "Epoch: 30, G_Loss: 2.880708, D_Loss: 0.208820, time: 39.95 min\n",
            "Epoch: 31, G_Loss: 1.787920, D_Loss: 0.269191, time: 40.63 min\n",
            "Epoch: 31, G_Loss: 2.408799, D_Loss: 0.325444, time: 41.31 min\n",
            "Epoch: 32, G_Loss: 1.965672, D_Loss: 0.368416, time: 41.98 min\n",
            "Epoch: 33, G_Loss: 3.182043, D_Loss: 0.184101, time: 42.66 min\n",
            "Epoch: 33, G_Loss: 2.458299, D_Loss: 0.263814, time: 43.36 min\n",
            "Epoch: 34, G_Loss: 2.175879, D_Loss: 0.204913, time: 44.04 min\n",
            "Epoch: 34, G_Loss: 2.040589, D_Loss: 0.323820, time: 44.72 min\n",
            "Epoch: 35, G_Loss: 2.304879, D_Loss: 0.200130, time: 45.39 min\n",
            "Epoch: 35, G_Loss: 1.768048, D_Loss: 0.190001, time: 46.08 min\n",
            "Epoch: 36, G_Loss: 1.649053, D_Loss: 0.342537, time: 46.77 min\n",
            "Epoch: 36, G_Loss: 2.961668, D_Loss: 0.231159, time: 47.45 min\n",
            "Epoch: 37, G_Loss: 2.269637, D_Loss: 0.218893, time: 48.13 min\n",
            "Epoch: 37, G_Loss: 2.199104, D_Loss: 0.162682, time: 48.81 min\n",
            "Epoch: 38, G_Loss: 1.228820, D_Loss: 0.383940, time: 49.51 min\n",
            "Epoch: 38, G_Loss: 2.526447, D_Loss: 0.304935, time: 50.20 min\n",
            "Epoch: 39, G_Loss: 1.824717, D_Loss: 0.298373, time: 50.88 min\n",
            "Epoch: 39, G_Loss: 1.468765, D_Loss: 0.330287, time: 51.55 min\n",
            "Epoch: 40, G_Loss: 2.359066, D_Loss: 0.214922, time: 52.24 min\n",
            "Epoch: 41, G_Loss: 1.862922, D_Loss: 0.228394, time: 52.93 min\n",
            "Epoch: 41, G_Loss: 2.226459, D_Loss: 0.271264, time: 53.60 min\n",
            "Epoch: 42, G_Loss: 2.661482, D_Loss: 0.195745, time: 54.29 min\n",
            "Epoch: 42, G_Loss: 2.452238, D_Loss: 0.363720, time: 54.97 min\n",
            "Epoch: 43, G_Loss: 2.045278, D_Loss: 0.324975, time: 55.66 min\n",
            "Epoch: 43, G_Loss: 3.043598, D_Loss: 0.498879, time: 56.36 min\n",
            "Epoch: 44, G_Loss: 1.393080, D_Loss: 0.451694, time: 57.03 min\n",
            "Epoch: 44, G_Loss: 2.998912, D_Loss: 0.315957, time: 57.72 min\n",
            "Epoch: 45, G_Loss: 2.463960, D_Loss: 0.255353, time: 58.40 min\n",
            "Epoch: 45, G_Loss: 2.233662, D_Loss: 0.294418, time: 59.09 min\n",
            "Epoch: 46, G_Loss: 2.798930, D_Loss: 0.296091, time: 59.78 min\n",
            "Epoch: 46, G_Loss: 2.065877, D_Loss: 0.350219, time: 60.51 min\n",
            "Epoch: 47, G_Loss: 2.374724, D_Loss: 0.207328, time: 61.17 min\n",
            "Epoch: 47, G_Loss: 1.909403, D_Loss: 0.263656, time: 61.83 min\n",
            "Epoch: 48, G_Loss: 2.765049, D_Loss: 0.166693, time: 62.50 min\n",
            "Epoch: 49, G_Loss: 2.323491, D_Loss: 0.235025, time: 63.16 min\n",
            "Epoch: 49, G_Loss: 2.937654, D_Loss: 0.165757, time: 63.82 min\n",
            "Epoch: 50, G_Loss: 1.876387, D_Loss: 0.271977, time: 64.49 min\n",
            "Epoch: 50, G_Loss: 1.923177, D_Loss: 0.266820, time: 65.16 min\n",
            "Epoch: 51, G_Loss: 1.575094, D_Loss: 0.310777, time: 65.84 min\n",
            "Epoch: 51, G_Loss: 2.844293, D_Loss: 0.265218, time: 66.52 min\n",
            "Epoch: 52, G_Loss: 3.210837, D_Loss: 0.334343, time: 67.19 min\n",
            "Epoch: 52, G_Loss: 2.872402, D_Loss: 0.218092, time: 67.87 min\n",
            "Epoch: 53, G_Loss: 1.658468, D_Loss: 0.189159, time: 68.54 min\n",
            "Epoch: 53, G_Loss: 2.472682, D_Loss: 0.446496, time: 69.21 min\n",
            "Epoch: 54, G_Loss: 2.232728, D_Loss: 0.410498, time: 69.87 min\n",
            "Epoch: 54, G_Loss: 1.982793, D_Loss: 0.258601, time: 70.52 min\n",
            "Epoch: 55, G_Loss: 2.843612, D_Loss: 0.195777, time: 71.19 min\n",
            "Epoch: 55, G_Loss: 2.559781, D_Loss: 0.403231, time: 71.84 min\n",
            "Epoch: 56, G_Loss: 1.829791, D_Loss: 0.281593, time: 72.50 min\n",
            "Epoch: 57, G_Loss: 2.145686, D_Loss: 0.195202, time: 73.16 min\n",
            "Epoch: 57, G_Loss: 1.607431, D_Loss: 0.275733, time: 73.82 min\n",
            "Epoch: 58, G_Loss: 2.129453, D_Loss: 0.263116, time: 74.48 min\n",
            "Epoch: 58, G_Loss: 2.543488, D_Loss: 0.357571, time: 75.14 min\n",
            "Epoch: 59, G_Loss: 1.490004, D_Loss: 0.419965, time: 75.79 min\n",
            "Epoch: 59, G_Loss: 1.753446, D_Loss: 0.154722, time: 76.46 min\n",
            "Epoch: 60, G_Loss: 2.067935, D_Loss: 0.224307, time: 77.12 min\n",
            "Epoch: 60, G_Loss: 1.926393, D_Loss: 0.248693, time: 77.78 min\n",
            "Epoch: 61, G_Loss: 2.485806, D_Loss: 0.202049, time: 78.44 min\n",
            "Epoch: 61, G_Loss: 2.298285, D_Loss: 0.309180, time: 79.10 min\n",
            "Epoch: 62, G_Loss: 2.778438, D_Loss: 0.318681, time: 79.76 min\n",
            "Epoch: 62, G_Loss: 2.064290, D_Loss: 0.320402, time: 80.43 min\n",
            "Epoch: 63, G_Loss: 3.283491, D_Loss: 0.200130, time: 81.09 min\n",
            "Epoch: 63, G_Loss: 3.187296, D_Loss: 0.172906, time: 81.76 min\n",
            "Epoch: 64, G_Loss: 2.722153, D_Loss: 0.253364, time: 82.42 min\n",
            "Epoch: 65, G_Loss: 2.740277, D_Loss: 0.243773, time: 83.09 min\n",
            "Epoch: 65, G_Loss: 3.334896, D_Loss: 0.127635, time: 83.76 min\n",
            "Epoch: 66, G_Loss: 2.218454, D_Loss: 0.273663, time: 84.42 min\n",
            "Epoch: 66, G_Loss: 2.936863, D_Loss: 0.249800, time: 85.09 min\n",
            "Epoch: 67, G_Loss: 2.163761, D_Loss: 0.269918, time: 85.75 min\n",
            "Epoch: 67, G_Loss: 1.764098, D_Loss: 0.264223, time: 86.42 min\n",
            "Epoch: 68, G_Loss: 2.079360, D_Loss: 0.286241, time: 87.08 min\n",
            "Epoch: 68, G_Loss: 2.534799, D_Loss: 0.163365, time: 87.74 min\n",
            "Epoch: 69, G_Loss: 2.492955, D_Loss: 0.291899, time: 88.40 min\n",
            "Epoch: 69, G_Loss: 1.800142, D_Loss: 0.282268, time: 89.07 min\n",
            "Epoch: 70, G_Loss: 1.907468, D_Loss: 0.208062, time: 89.74 min\n",
            "Epoch: 70, G_Loss: 1.272291, D_Loss: 0.326702, time: 90.41 min\n",
            "Epoch: 71, G_Loss: 2.120500, D_Loss: 0.291710, time: 91.07 min\n",
            "Epoch: 71, G_Loss: 1.958595, D_Loss: 0.230243, time: 91.73 min\n",
            "Epoch: 72, G_Loss: 2.011111, D_Loss: 0.242056, time: 92.39 min\n",
            "Epoch: 73, G_Loss: 1.649401, D_Loss: 0.209091, time: 93.05 min\n",
            "Epoch: 73, G_Loss: 2.973038, D_Loss: 0.297043, time: 93.72 min\n",
            "Epoch: 74, G_Loss: 2.254996, D_Loss: 0.252346, time: 94.38 min\n",
            "Epoch: 74, G_Loss: 2.313060, D_Loss: 0.202392, time: 95.03 min\n",
            "Epoch: 75, G_Loss: 2.395670, D_Loss: 0.131252, time: 95.70 min\n",
            "Epoch: 75, G_Loss: 1.771789, D_Loss: 0.234405, time: 96.35 min\n",
            "Epoch: 76, G_Loss: 1.459352, D_Loss: 0.278235, time: 97.01 min\n",
            "Epoch: 76, G_Loss: 2.595021, D_Loss: 0.319077, time: 97.67 min\n",
            "Epoch: 77, G_Loss: 1.826705, D_Loss: 0.302690, time: 98.33 min\n",
            "Epoch: 77, G_Loss: 1.978978, D_Loss: 0.345733, time: 98.99 min\n",
            "Epoch: 78, G_Loss: 2.157646, D_Loss: 0.290190, time: 99.66 min\n",
            "Epoch: 78, G_Loss: 2.404272, D_Loss: 0.290232, time: 100.32 min\n",
            "Epoch: 79, G_Loss: 1.442935, D_Loss: 0.254651, time: 100.99 min\n",
            "Epoch: 79, G_Loss: 2.437351, D_Loss: 0.371760, time: 101.65 min\n",
            "Epoch: 80, G_Loss: 2.465404, D_Loss: 0.207570, time: 102.31 min\n",
            "Epoch: 81, G_Loss: 2.507246, D_Loss: 0.177916, time: 102.98 min\n",
            "Epoch: 81, G_Loss: 2.353928, D_Loss: 0.304230, time: 103.65 min\n",
            "Epoch: 82, G_Loss: 2.695933, D_Loss: 0.275975, time: 104.32 min\n",
            "Epoch: 82, G_Loss: 2.237101, D_Loss: 0.129916, time: 104.98 min\n",
            "Epoch: 83, G_Loss: 2.771128, D_Loss: 0.303399, time: 105.64 min\n",
            "Epoch: 83, G_Loss: 2.251667, D_Loss: 0.247731, time: 106.31 min\n",
            "Epoch: 84, G_Loss: 1.988781, D_Loss: 0.333947, time: 106.97 min\n",
            "Epoch: 84, G_Loss: 2.413833, D_Loss: 0.199921, time: 107.65 min\n",
            "Epoch: 85, G_Loss: 2.917896, D_Loss: 0.148249, time: 108.31 min\n",
            "Epoch: 85, G_Loss: 2.483817, D_Loss: 0.244437, time: 108.98 min\n",
            "Epoch: 86, G_Loss: 2.419627, D_Loss: 0.285659, time: 109.65 min\n",
            "Epoch: 86, G_Loss: 2.588394, D_Loss: 0.249592, time: 110.32 min\n",
            "Epoch: 87, G_Loss: 2.281635, D_Loss: 0.293814, time: 110.99 min\n",
            "Epoch: 87, G_Loss: 2.154176, D_Loss: 0.236527, time: 111.67 min\n",
            "Epoch: 88, G_Loss: 1.901342, D_Loss: 0.228859, time: 112.33 min\n",
            "Epoch: 89, G_Loss: 1.789893, D_Loss: 0.316443, time: 113.01 min\n",
            "Epoch: 89, G_Loss: 2.278216, D_Loss: 0.281796, time: 113.70 min\n",
            "Epoch: 90, G_Loss: 2.181022, D_Loss: 0.348591, time: 114.39 min\n",
            "Epoch: 90, G_Loss: 1.876132, D_Loss: 0.260119, time: 115.05 min\n",
            "Epoch: 91, G_Loss: 2.300329, D_Loss: 0.234020, time: 115.72 min\n",
            "Epoch: 91, G_Loss: 1.863309, D_Loss: 0.303281, time: 116.39 min\n",
            "Epoch: 92, G_Loss: 2.198696, D_Loss: 0.124971, time: 117.07 min\n",
            "Epoch: 92, G_Loss: 3.150159, D_Loss: 0.319543, time: 117.73 min\n",
            "Epoch: 93, G_Loss: 1.680080, D_Loss: 0.315079, time: 118.40 min\n",
            "Epoch: 93, G_Loss: 2.237838, D_Loss: 0.235387, time: 119.08 min\n",
            "Epoch: 94, G_Loss: 1.559070, D_Loss: 0.257069, time: 119.75 min\n",
            "Epoch: 94, G_Loss: 2.706898, D_Loss: 0.239701, time: 120.43 min\n",
            "Epoch: 95, G_Loss: 1.178984, D_Loss: 0.419885, time: 121.09 min\n",
            "Epoch: 95, G_Loss: 3.531512, D_Loss: 0.403115, time: 121.76 min\n",
            "Epoch: 96, G_Loss: 2.252244, D_Loss: 0.397986, time: 122.43 min\n",
            "Epoch: 97, G_Loss: 2.730570, D_Loss: 0.229309, time: 123.09 min\n",
            "Epoch: 97, G_Loss: 1.814014, D_Loss: 0.485171, time: 123.75 min\n",
            "Epoch: 98, G_Loss: 1.834220, D_Loss: 0.330762, time: 124.41 min\n",
            "Epoch: 98, G_Loss: 1.950990, D_Loss: 0.323501, time: 125.07 min\n",
            "Epoch: 99, G_Loss: 1.676868, D_Loss: 0.417695, time: 125.73 min\n",
            "Epoch: 99, G_Loss: 2.315198, D_Loss: 0.267443, time: 126.38 min\n"
          ]
        }
      ],
      "source": [
        "batch_count = 0\n",
        "start_time = time.time()\n",
        "model_dis.train()\n",
        "model_gen.train()\n",
        "\n",
        "for epoch in range(num_epochs):\n",
        "    for xb, yb in train_dl:\n",
        "        ba_si = xb.size(0)\n",
        "\n",
        "        xb = xb.to(device)\n",
        "        yb_real = torch.Tensor(ba_si,1).fill_(1.0).to(device)\n",
        "        yb_fake = torch.Tensor(ba_si,1).fill_(0.0).to(device)\n",
        "\n",
        "        # Generator\n",
        "        model_gen.zero_grad()\n",
        "        noise = torch.randn(ba_si,nz, device=device) # 노이즈 생성\n",
        "        out_gen = model_gen(noise) # 가짜 이미지 생성\n",
        "        out_dis = model_dis(out_gen) # 가짜 이미지 판별\n",
        "\n",
        "        loss_gen = loss_func(out_dis, yb_real)\n",
        "        loss_gen.backward()\n",
        "        opt_gen.step()\n",
        "\n",
        "        # Discriminator\n",
        "        model_dis.zero_grad()\n",
        "\n",
        "        out_real = model_dis(xb) # 진짜 이미지 판별\n",
        "        out_fake = model_dis(out_gen.detach()) # 가짜 이미지 판별\n",
        "        loss_real = loss_func(out_real, yb_real)\n",
        "        loss_fake = loss_func(out_fake, yb_fake)\n",
        "        loss_dis = (loss_real + loss_fake) / 2\n",
        "\n",
        "        loss_dis.backward()\n",
        "        opt_dis.step()\n",
        "\n",
        "        loss_history['gen'].append(loss_gen.item())\n",
        "        loss_history['dis'].append(loss_dis.item())\n",
        "\n",
        "        batch_count += 1\n",
        "        if batch_count % 1000 == 0:\n",
        "            print('Epoch: %.0f, G_Loss: %.6f, D_Loss: %.6f, time: %.2f min' %(epoch, loss_gen.item(), loss_dis.item(), (time.time()-start_time)/60))"
      ]
    },
    {
      "cell_type": "code",
      "execution_count": null,
      "metadata": {
        "colab": {
          "background_save": true
        },
        "id": "NdKzx82shCwV",
        "outputId": "4ab289c2-64ad-4f5b-cbba-4bfe4a4b7594"
      },
      "outputs": [
        {
          "data": {
            "image/png": "[encoded data removed]",
            "text/plain": [
              "<Figure size 1000x500 with 1 Axes>"
            ]
          },
          "metadata": {},
          "output_type": "display_data"
        }
      ],
      "source": [
        "# plot loss history\n",
        "plt.figure(figsize=(10,5))\n",
        "plt.title('Loss Progress')\n",
        "plt.plot(loss_history['gen'], label='Gen. Loss')\n",
        "plt.plot(loss_history['dis'], label='Dis. Loss')\n",
        "plt.xlabel('batch count')\n",
        "plt.ylabel('Loss')\n",
        "plt.legend()\n",
        "plt.show()"
      ]
    },
    {
      "cell_type": "code",
      "execution_count": null,
      "metadata": {
        "colab": {
          "background_save": true
        },
        "id": "CUANzp5shO-l"
      },
      "outputs": [],
      "source": [
        "# 가중치 저장\n",
        "path2models = './models/'\n",
        "os.makedirs(path2models, exist_ok=True)\n",
        "path2weights_gen = os.path.join(path2models, 'weights_gen.pt')\n",
        "path2weights_dis = os.path.join(path2models, 'weights_dis.pt')\n",
        "\n",
        "torch.save(model_gen.state_dict(), path2weights_gen)\n",
        "torch.save(model_dis.state_dict(), path2weights_dis)"
      ]
    },
    {
      "cell_type": "code",
      "execution_count": null,
      "metadata": {
        "colab": {
          "background_save": true
        },
        "id": "r-CV2wHohR_t",
        "outputId": "7225ede4-37f4-430e-9358-b8a1d5e75a19"
      },
      "outputs": [
        {
          "name": "stdout",
          "output_type": "stream",
          "text": [
            "torch.Size([16, 1, 28, 28])\n"
          ]
        }
      ],
      "source": [
        "# 가중치 불러오기\n",
        "weights = torch.load(path2weights_gen)\n",
        "model_gen.load_state_dict(weights)\n",
        "\n",
        "# evaluation mode\n",
        "model_gen.eval()\n",
        "\n",
        "# fake image 생성\n",
        "with torch.no_grad():\n",
        "    fixed_noise = torch.randn(16, 100, device=device)\n",
        "    img_fake = model_gen(fixed_noise).detach().cpu()\n",
        "print(img_fake.shape)"
      ]
    },
    {
      "cell_type": "code",
      "execution_count": null,
      "metadata": {
        "colab": {
          "background_save": true
        },
        "id": "CKd3IOENhTWf",
        "outputId": "f7f8790e-dd6d-4f0f-bbaa-595edc956232"
      },
      "outputs": [
        {
          "data": {
            "image/png": "[encoded data removed]",
            "text/plain": [
              "<Figure size 1000x1000 with 16 Axes>"
            ]
          },
          "metadata": {},
          "output_type": "display_data"
        }
      ],
      "source": [
        "# 가짜 이미지 시각화\n",
        "plt.figure(figsize=(10,10))\n",
        "for ii in range(16):\n",
        "    plt.subplot(4,4,ii+1)\n",
        "    plt.imshow(to_pil_image(0.5*img_fake[ii]+0.5),cmap='gray')\n",
        "    plt.axis('off')"
      ]
    },
    {
      "cell_type": "code",
      "execution_count": null,
      "metadata": {
        "id": "x3YLb2bShUjW"
      },
      "outputs": [],
      "source": []
    }
  ],
  "metadata": {
    "colab": {
      "provenance": [],
      "authorship_tag": "ABX9TyOgxZbgrmyblYpyglLQLvtL",
      "include_colab_link": true
    },
    "kernelspec": {
      "display_name": "Python 3",
      "name": "python3"
    },
    "language_info": {
      "name": "python"
    }
  },
  "nbformat": 4,
  "nbformat_minor": 0
}